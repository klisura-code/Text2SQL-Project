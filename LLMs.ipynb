{
 "cells": [
  {
   "cell_type": "markdown",
   "metadata": {},
   "source": [
    "## Unmasking Database Vulnerabilities: Zero-Knowledge Schema Inference Attacks in Text-to-SQL Systems"
   ]
  },
  {
   "cell_type": "code",
   "execution_count": 1,
   "metadata": {},
   "outputs": [],
   "source": [
    "# IMPORTS\n",
    "from transformers import AutoModelForSeq2SeqLM, AutoTokenizer, AutoModelForCausalLM, pipeline\n",
    "import torch\n",
    "import openai\n",
    "import os"
   ]
  },
  {
   "cell_type": "markdown",
   "metadata": {},
   "source": [
    "## T5-Large"
   ]
  },
  {
   "cell_type": "markdown",
   "metadata": {},
   "source": [
    "Model available at: https://huggingface.co/gaussalgo/T5-LM-Large-text2sql-spider"
   ]
  },
  {
   "cell_type": "code",
   "execution_count": 3,
   "metadata": {},
   "outputs": [],
   "source": [
    "model_path = 'gaussalgo/T5-LM-Large-text2sql-spider'\n",
    "model = AutoModelForSeq2SeqLM.from_pretrained(model_path)\n",
    "tokenizer = AutoTokenizer.from_pretrained(model_path)\n",
    "\n",
    "def generate_sql_t5_large(question, schema):\n",
    "    input_text = f\"Question: {question} Schema: {schema}\"\n",
    "    model_inputs = tokenizer(input_text, return_tensors=\"pt\")\n",
    "    outputs = model.generate(**model_inputs, max_new_tokens=256)\n",
    "    output_text = tokenizer.batch_decode(outputs, skip_special_tokens=True)\n",
    "    \n",
    "    sql_query = output_text[0]\n",
    "    return sql_query"
   ]
  },
  {
   "cell_type": "markdown",
   "metadata": {},
   "source": [
    "## SQLCoder"
   ]
  },
  {
   "cell_type": "markdown",
   "metadata": {},
   "source": [
    "Model available at: https://huggingface.co/defog/sqlcoder-7b-2"
   ]
  },
  {
   "cell_type": "code",
   "execution_count": 2,
   "metadata": {},
   "outputs": [
    {
     "data": {
      "application/vnd.jupyter.widget-view+json": {
       "model_id": "5c88e526ec394faa8c40e52736e13b69",
       "version_major": 2,
       "version_minor": 0
      },
      "text/plain": [
       "Loading checkpoint shards:   0%|          | 0/3 [00:00<?, ?it/s]"
      ]
     },
     "metadata": {},
     "output_type": "display_data"
    }
   ],
   "source": [
    "model_name = 'defog/sqlcoder-7b-2'\n",
    "device = torch.device(\"cuda\" if torch.cuda.is_available() else \"cpu\")\n",
    "\n",
    "tokenizer = AutoTokenizer.from_pretrained(model_name, trust_remote_code=True)\n",
    "model = AutoModelForCausalLM.from_pretrained(model_name, trust_remote_code=True, device_map='auto')\n",
    "model.to(device)\n",
    "\n",
    "def generate_sql_sqlcoder(question, schema):\n",
    "    input_text = f\"-- Given the following SQL table definitions, answer the question by writing a SQL query.\\n\\n{schema}\\n\\n-- {question}\\nSELECT\"\n",
    "    inputs = tokenizer.encode(input_text, return_tensors='pt').to(device)\n",
    "\n",
    "    outputs = model.generate(\n",
    "        inputs,\n",
    "        max_new_tokens=256,\n",
    "        temperature=0.1,\n",
    "        top_p=0.9,\n",
    "        do_sample=False,\n",
    "        pad_token_id=tokenizer.eos_token_id,\n",
    "        eos_token_id=tokenizer.eos_token_id,\n",
    "    )\n",
    "\n",
    "    output_text = tokenizer.decode(outputs[0], skip_special_tokens=True)\n",
    "    sql_query = output_text.split('\\n')[-1]\n",
    "\n",
    "    if not sql_query.strip().upper().startswith('SELECT'):\n",
    "        sql_query = 'SELECT' + sql_query\n",
    "\n",
    "    return sql_query.strip()"
   ]
  },
  {
   "cell_type": "markdown",
   "metadata": {},
   "source": [
    "## Code-Llama2"
   ]
  },
  {
   "cell_type": "markdown",
   "metadata": {},
   "source": [
    "Model available at: https://huggingface.co/support-pvelocity/Code-Llama-2-7B-instruct-text2sql"
   ]
  },
  {
   "cell_type": "code",
   "execution_count": 4,
   "metadata": {},
   "outputs": [
    {
     "name": "stderr",
     "output_type": "stream",
     "text": [
      "huggingface/tokenizers: The current process just got forked, after parallelism has already been used. Disabling parallelism to avoid deadlocks...\n",
      "To disable this warning, you can either:\n",
      "\t- Avoid using `tokenizers` before the fork if possible\n",
      "\t- Explicitly set the environment variable TOKENIZERS_PARALLELISM=(true | false)\n",
      "huggingface/tokenizers: The current process just got forked, after parallelism has already been used. Disabling parallelism to avoid deadlocks...\n",
      "To disable this warning, you can either:\n",
      "\t- Avoid using `tokenizers` before the fork if possible\n",
      "\t- Explicitly set the environment variable TOKENIZERS_PARALLELISM=(true | false)\n"
     ]
    },
    {
     "data": {
      "application/vnd.jupyter.widget-view+json": {
       "model_id": "41613d2fc536472b837ac68e8a486e4e",
       "version_major": 2,
       "version_minor": 0
      },
      "text/plain": [
       "Loading checkpoint shards:   0%|          | 0/2 [00:00<?, ?it/s]"
      ]
     },
     "metadata": {},
     "output_type": "display_data"
    }
   ],
   "source": [
    "model_name = 'support-pvelocity/Code-Llama-2-7B-instruct-text2sql'\n",
    "tokenizer = AutoTokenizer.from_pretrained(model_name)\n",
    "\n",
    "model = AutoModelForCausalLM.from_pretrained(\n",
    "    model_name,\n",
    "    device_map='auto',\n",
    "    load_in_4bit=True,\n",
    "    torch_dtype=torch.float16,\n",
    ")\n",
    "\n",
    "device = torch.device(\"cuda\" if torch.cuda.is_available() else \"cpu\")\n",
    "text_gen = pipeline(\n",
    "    'text-generation',\n",
    "    model=model,\n",
    "    tokenizer=tokenizer,\n",
    "    device=device.index if device.type == 'cuda' else -1,\n",
    ")\n",
    "\n",
    "def generate_sql_codellama(question, schema):\n",
    "    prompt = f\"[INST] Write SQLite query to answer the following question given the database schema. Please wrap your code answer using ```:\\nSchema: {schema}\\nQuestion: {question}\\n[/INST]\\n\"\n",
    "\n",
    "    generated_text = text_gen(\n",
    "        prompt,\n",
    "        max_new_tokens=256,  \n",
    "        temperature=0.1,     \n",
    "        top_p=0.9,           \n",
    "        do_sample=False,     \n",
    "        pad_token_id=tokenizer.eos_token_id,\n",
    "    )[0]['generated_text']\n",
    "\n",
    "\n",
    "    if '```' in generated_text:\n",
    "        sql_query_parts = generated_text.split('```')\n",
    "        if len(sql_query_parts) >= 3:\n",
    "            sql_query = sql_query_parts[2].strip()\n",
    "        else:\n",
    "            sql_query = sql_query_parts[-1].strip()\n",
    "    else:\n",
    "        sql_query = generated_text\n",
    "\n",
    "    return sql_query.strip()"
   ]
  },
  {
   "cell_type": "markdown",
   "metadata": {},
   "source": [
    "## GPT-4"
   ]
  },
  {
   "cell_type": "code",
   "execution_count": 6,
   "metadata": {},
   "outputs": [],
   "source": [
    "openai.api_key = os.environ['OPENAI_API_KEY']\n",
    "\n",
    "def generate_sql_gpt4(question, schema):\n",
    "    system_prompt = (\n",
    "        \"You are an expert SQL assistant. Given a database schema and a user's question, \"\n",
    "        \"generate the SQL query that answers the question. Provide only the SQL query without any additional text.\"\n",
    "    )\n",
    "\n",
    "    user_message = f\"\"\"\n",
    "Database Schema:\n",
    "{schema}\n",
    "\n",
    "Question:\n",
    "{question}\n",
    "\n",
    "SQL Query:\n",
    "\"\"\"\n",
    "    messages = [\n",
    "        {\"role\": \"system\", \"content\": system_prompt},\n",
    "        {\"role\": \"user\", \"content\": user_message}\n",
    "    ]\n",
    "\n",
    "    response = openai.ChatCompletion.create(\n",
    "        model=\"gpt-4-0125-preview\",\n",
    "        messages=messages,\n",
    "        temperature=0,\n",
    "        max_tokens=500,\n",
    "    )\n",
    "\n",
    "    sql_query = response['choices'][0]['message']['content'].strip()\n",
    "\n",
    "    return sql_query"
   ]
  },
  {
   "cell_type": "markdown",
   "metadata": {},
   "source": [
    "## LLAMA2"
   ]
  },
  {
   "cell_type": "code",
   "execution_count": 5,
   "metadata": {},
   "outputs": [
    {
     "data": {
      "application/vnd.jupyter.widget-view+json": {
       "model_id": "9379127b57c645aeb1994de2d0eda3d8",
       "version_major": 2,
       "version_minor": 0
      },
      "text/plain": [
       "Loading checkpoint shards:   0%|          | 0/2 [00:00<?, ?it/s]"
      ]
     },
     "metadata": {},
     "output_type": "display_data"
    }
   ],
   "source": [
    "model_path = 'path_to_your_llama2_model'\n",
    "device = torch.device(\"cuda\" if torch.cuda.is_available() else \"cpu\")\n",
    "\n",
    "tokenizer = AutoTokenizer.from_pretrained(model_path)\n",
    "model = AutoModelForCausalLM.from_pretrained(\n",
    "    model_path,\n",
    "    torch_dtype=torch.float16,\n",
    "    device_map='auto',\n",
    ")\n",
    "model.to(device)\n",
    "\n",
    "def generate_sql_llama2(question, schema):\n",
    "    system_prompt = \"You are an AI assistant that generates SQL queries based on a database schema and a user's question. Provide only the SQL query without any additional text.\"\n",
    "\n",
    "    user_input = f\"Given the following database schema:\\n{schema}\\n\\nWrite an SQL query to answer the following question:\\n{question}\"\n",
    "\n",
    "    prompt = f\"<s>[INST] <<SYS>>\\n{system_prompt}\\n<</SYS>>\\n\\n{user_input}\\n[/INST]\"\n",
    "\n",
    "    inputs = tokenizer(prompt, return_tensors=\"pt\").to(device)\n",
    "\n",
    "    outputs = model.generate(\n",
    "        **inputs,\n",
    "        max_new_tokens=256,\n",
    "        do_sample=False,     \n",
    "        pad_token_id=tokenizer.eos_token_id,\n",
    "    )\n",
    "\n",
    "    output_text = tokenizer.decode(outputs[0], skip_special_tokens=True)\n",
    "\n",
    "    assistant_reply = output_text.split('[/INST]')[-1].strip()\n",
    "\n",
    "    if '```' in assistant_reply:\n",
    "        sql_query = assistant_reply.split('```')[1].strip()\n",
    "    else:\n",
    "        sql_query = assistant_reply.strip()\n",
    "        if '\\n' in sql_query:\n",
    "            sql_query = '\\n'.join(sql_query.split('\\n')[1:]).strip()\n",
    "\n",
    "    return sql_query"
   ]
  },
  {
   "cell_type": "markdown",
   "metadata": {},
   "source": [
    "## LLAMA3"
   ]
  },
  {
   "cell_type": "code",
   "execution_count": 14,
   "metadata": {},
   "outputs": [
    {
     "name": "stderr",
     "output_type": "stream",
     "text": [
      "Special tokens have been added in the vocabulary, make sure the associated word embeddings are fine-tuned or trained.\n"
     ]
    },
    {
     "data": {
      "application/vnd.jupyter.widget-view+json": {
       "model_id": "087a5a23defd4ecd93c88e247fd719dc",
       "version_major": 2,
       "version_minor": 0
      },
      "text/plain": [
       "Loading checkpoint shards:   0%|          | 0/4 [00:00<?, ?it/s]"
      ]
     },
     "metadata": {},
     "output_type": "display_data"
    }
   ],
   "source": [
    "model_path = 'path_to_your_llama3_model'\n",
    "device = torch.device(\"cuda\" if torch.cuda.is_available() else \"cpu\")\n",
    "\n",
    "tokenizer = AutoTokenizer.from_pretrained(model_path)\n",
    "model = AutoModelForCausalLM.from_pretrained(\n",
    "    model_path,\n",
    "    torch_dtype=torch.float16,\n",
    "    device_map='auto',\n",
    ")\n",
    "model.to(device)\n",
    "\n",
    "\n",
    "def generate_sql_llama3(question, schema):\n",
    "    \"\"\"\n",
    "    Parameters:\n",
    "    - question (str): The natural language question.\n",
    "    - schema (str): The database schema in SQL CREATE TABLE format.\n",
    "\n",
    "    Returns:\n",
    "    - str: The generated SQL query.\n",
    "    \"\"\"\n",
    "\n",
    "    prompt = (\n",
    "        \"You are an AI assistant that generates SQL queries based on a database schema and a user's question.\\n\"\n",
    "        \"Provide only the SQL query without any additional text, explanations, or comments.\\n\\n\"\n",
    "        f\"Database Schema:\\n{schema}\\n\\n\"\n",
    "        f\"Question:\\n{question}\\n\\n\"\n",
    "        \"SQL Query:\"\n",
    "    )\n",
    "\n",
    "    inputs = tokenizer(prompt, return_tensors=\"pt\").to(device)\n",
    "\n",
    "    outputs = model.generate(\n",
    "        **inputs,\n",
    "        max_new_tokens=256,\n",
    "        do_sample=False,     # Use greedy decoding for deterministic output\n",
    "        pad_token_id=tokenizer.eos_token_id,\n",
    "    )\n",
    "\n",
    "    output_text = tokenizer.decode(outputs[0], skip_special_tokens=True)\n",
    "\n",
    "    sql_query = output_text[len(prompt):].strip()\n",
    "    sql_query = sql_query.split('\\n')[0].strip()\n",
    "\n",
    "    return sql_query"
   ]
  }
 ],
 "metadata": {
  "kernelspec": {
   "display_name": "base",
   "language": "python",
   "name": "python3"
  },
  "language_info": {
   "codemirror_mode": {
    "name": "ipython",
    "version": 3
   },
   "file_extension": ".py",
   "mimetype": "text/x-python",
   "name": "python",
   "nbconvert_exporter": "python",
   "pygments_lexer": "ipython3",
   "version": "3.9.18"
  }
 },
 "nbformat": 4,
 "nbformat_minor": 2
}
